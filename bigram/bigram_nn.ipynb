{
 "cells": [
  {
   "cell_type": "code",
   "execution_count": null,
   "id": "956a3e10-0b14-4c79-ba31-137af127e629",
   "metadata": {},
   "outputs": [],
   "source": [
    "# Creating a neural network model to output random names\n",
    "# Model is trained using biagram method (using previous character to predict next character)\n",
    "\n",
    "# References: \n",
    "# https://www.youtube.com/watch?v=PaCmpygFfXo&list=PLAqhIrjkxbuWI23v9cThsA9GvCAUhRvKZ&index=2\n",
    "# https://github.com/karpathy/nn-zero-to-hero/blob/master/lectures/makemore/makemore_part1_bigrams.ipynb"
   ]
  },
  {
   "cell_type": "code",
   "execution_count": 62,
   "id": "ea7cd3c9-fe9c-4976-8263-ed8ccb007f74",
   "metadata": {},
   "outputs": [],
   "source": [
    "import torch\n",
    "import torch.nn.functional as F"
   ]
  },
  {
   "cell_type": "code",
   "execution_count": 100,
   "id": "e877f70e-3ca8-408b-afb9-66c6667783cc",
   "metadata": {},
   "outputs": [],
   "source": [
    "# Read file\n",
    "names = open('names.txt', 'r').read().splitlines()"
   ]
  },
  {
   "cell_type": "code",
   "execution_count": 101,
   "id": "8dc382c2-74ea-41ee-a681-3613af4763c2",
   "metadata": {},
   "outputs": [
    {
     "name": "stdout",
     "output_type": "stream",
     "text": [
      "number of names in data 7553\n",
      ".pavia.\n",
      "number of unique characters 27\n",
      "['k', 'u', 'n', 'e', 'f', 'o', 'v', 'l', 'm', 'p', 'i', '.', 'h', 't', 'g', 'w', 's', 'd', 'c', 'y', 'z', 'x', 'r', 'b', 'a', 'j', 'q']\n"
     ]
    }
   ],
   "source": [
    "# Data exploration\n",
    "names = list(set(['.'+name.lower()+'.' for name in names]))\n",
    "print(f'number of names in data {len(names)}')\n",
    "print(names[0])\n",
    "unique_chars = list(set(''.join(name for name in names)))\n",
    "print(f'number of unique characters {len(unique_chars)}')\n",
    "print(unique_chars)"
   ]
  },
  {
   "cell_type": "code",
   "execution_count": 102,
   "id": "830ee327-ce36-48c0-ab1a-9a7a158f97aa",
   "metadata": {},
   "outputs": [],
   "source": [
    "# Creating a refernce dictionary\n",
    "stoi, itost = {}, {}\n",
    "for ix1, ix2 in enumerate(unique_chars):\n",
    "    itos[ix1] = ix2\n",
    "    stoi[ix2] = ix1"
   ]
  },
  {
   "cell_type": "code",
   "execution_count": 219,
   "id": "a3408716-e0f4-4e53-9776-be7aa4d7049e",
   "metadata": {},
   "outputs": [
    {
     "name": "stdout",
     "output_type": "stream",
     "text": [
      "x.shape=torch.Size([53342])\n"
     ]
    }
   ],
   "source": [
    "x, Y = [], []\n",
    "for name in names:\n",
    "    for i,j in zip(name, name[1:]):\n",
    "        x.append(stoi[i])\n",
    "        Y.append(stoi[j])\n",
    "\n",
    "# Creating tensors to easily work with vectors\n",
    "x = torch.tensor(x)\n",
    "Y = torch.tensor(Y)\n",
    "# Encoding the integer to vector for input into neural network\n",
    "xenc = F.one_hot(x, num_classes = 27).float()"
   ]
  },
  {
   "cell_type": "code",
   "execution_count": 200,
   "id": "2b9e376a-1675-4afa-9146-9a32996d723f",
   "metadata": {},
   "outputs": [],
   "source": [
    "# Creating weighs and bias for nn\n",
    "g = torch.Generator().manual_seed(2178987)\n",
    "W = torch.randn((27,27),generator = g, dtype= torch.float32, requires_grad=True) \n",
    "b = torch.randn(1, generator = g, dtype = torch.float32)"
   ]
  },
  {
   "cell_type": "code",
   "execution_count": 230,
   "id": "d1edefd4-a484-49b3-bbf7-b7bdb93e2f6b",
   "metadata": {},
   "outputs": [
    {
     "data": {
      "text/plain": [
       "tensor(2.4348, grad_fn=<AddBackward0>)"
      ]
     },
     "execution_count": 230,
     "metadata": {},
     "output_type": "execute_result"
    }
   ],
   "source": [
    "# Gradient descend (Training)\n",
    "for i in range(1000):\n",
    "    # Forward pass\n",
    "    # sum(xenc[i] * W[i]) + b \n",
    "    logits  =(xenc @ W) + b # predict log-counts (we assume that we are getting log(counts) here as equivalent to biagram model where we count combinations)\n",
    "    count = torch.exp(logits) # counts equivalent to number of occurence in bigram \n",
    "    probs = count / count.sum(1, keepdim = True) # probabilities for next character\n",
    "    # btw: the last 2 lines here are together called a 'softmax'\n",
    "    # softmax is used frequently in NN over linear layer where we want to get probability of occurance from weights(which can  be +ve or -ve)\n",
    "    \n",
    "    # Calculating loss function (negative log likelihood) as its classification problem, we use mean squred in regression problem\n",
    "    loss = -probs[torch.arange(len(x)), Y].log().mean()\n",
    "    # Regularization of loss (this is to force W to be as low as possible which reducing the loss function)\n",
    "    loss += 0.01*(W**2).mean()\n",
    "    \n",
    "    \n",
    "    #backward pass\n",
    "    W.grad = None\n",
    "    loss.backward()\n",
    "    \n",
    "    # Update weights\n",
    "    W.data += -50 * W.grad\n",
    "loss"
   ]
  },
  {
   "cell_type": "code",
   "execution_count": 231,
   "id": "35e7e842-a109-4469-9072-60037cd16b17",
   "metadata": {},
   "outputs": [
    {
     "data": {
      "text/plain": [
       "['rleindie',\n",
       " 'jolin',\n",
       " 'warynnn',\n",
       " 'go',\n",
       " 'cotiemerasile',\n",
       " 'bvan',\n",
       " 'brerkarinasina',\n",
       " 'bryeod',\n",
       " 'aly',\n",
       " 'sahora']"
      ]
     },
     "execution_count": 231,
     "metadata": {},
     "output_type": "execute_result"
    }
   ],
   "source": [
    "# Final : Output from neural network\n",
    "out = []\n",
    "for i in range(10):\n",
    "    ix = stoi['.']\n",
    "    name = []\n",
    "    while True:\n",
    "        ix = torch.tensor([ix])\n",
    "        ixenc = F.one_hot(ix, num_classes = 27).float()\n",
    "        logits = (ixenc @ W) + b\n",
    "        count = torch.exp(logits)\n",
    "        probs = count / count.sum(1, keepdim=True)\n",
    "    \n",
    "        # using multinomial to pick next char\n",
    "        ix = torch.multinomial(probs, num_samples = 1, replacement=True, generator=g).item()\n",
    "        if itos[ix] == '.':\n",
    "            break\n",
    "        name.append(itos[ix])\n",
    "    out.append(''.join(name))\n",
    "out"
   ]
  },
  {
   "cell_type": "code",
   "execution_count": null,
   "id": "13ad1ccc-4780-486b-9def-eabf573dd659",
   "metadata": {},
   "outputs": [],
   "source": []
  }
 ],
 "metadata": {
  "kernelspec": {
   "display_name": "Python 3 (ipykernel)",
   "language": "python",
   "name": "python3"
  },
  "language_info": {
   "codemirror_mode": {
    "name": "ipython",
    "version": 3
   },
   "file_extension": ".py",
   "mimetype": "text/x-python",
   "name": "python",
   "nbconvert_exporter": "python",
   "pygments_lexer": "ipython3",
   "version": "3.12.7"
  }
 },
 "nbformat": 4,
 "nbformat_minor": 5
}
